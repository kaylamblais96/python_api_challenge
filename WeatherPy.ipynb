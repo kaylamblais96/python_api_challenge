{
 "cells": [
  {
   "cell_type": "markdown",
   "metadata": {},
   "source": [
    "# WeatherPy\n",
    "\n",
    "---\n",
    "\n",
    "## Starter Code to Generate Random Geographic Coordinates and a List of Cities"
   ]
  },
  {
   "cell_type": "code",
   "execution_count": null,
   "metadata": {
    "scrolled": true
   },
   "outputs": [],
   "source": [
    "# Dependencies and Setup\n",
    "import matplotlib.pyplot as plt\n",
    "import pandas as pd\n",
    "import numpy as np\n",
    "import requests\n",
    "import time\n",
    "import json\n",
    "from scipy.stats import linregress\n",
    "\n",
    "# Import the OpenWeatherMap API key\n",
    "from api_keys import weather_api_key\n",
    "\n",
    "# Import citipy to determine the cities based on latitude and longitude\n",
    "from citipy import citipy"
   ]
  },
  {
   "cell_type": "markdown",
   "metadata": {},
   "source": [
    "### Generate the Cities List by Using the `citipy` Library"
   ]
  },
  {
   "cell_type": "code",
   "execution_count": null,
   "metadata": {},
   "outputs": [],
   "source": [
    "# Empty list for holding the latitude and longitude combinations\n",
    "lat_lngs = []\n",
    "\n",
    "# Empty list for holding the cities names\n",
    "cities = []\n",
    "\n",
    "# Range of latitudes and longitudes\n",
    "lat_range = (-90, 90)\n",
    "lng_range = (-180, 180)\n",
    "\n",
    "# Create a set of random lat and lng combinations\n",
    "lats = np.random.uniform(lat_range[0], lat_range[1], size=1500)\n",
    "lngs = np.random.uniform(lng_range[0], lng_range[1], size=1500)\n",
    "lat_lngs = zip(lats, lngs)\n",
    "\n",
    "# Identify nearest city for each lat, lng combination\n",
    "for lat_lng in lat_lngs:\n",
    "    city = citipy.nearest_city(lat_lng[0], lat_lng[1]).city_name\n",
    "\n",
    "    # If the city is unique, then add it to a our cities list\n",
    "    if city not in cities:\n",
    "        cities.append(city)\n",
    "\n",
    "# Print the city count to confirm sufficient count\n",
    "print(f\"Number of cities in the list: {len(cities)}\")"
   ]
  },
  {
   "cell_type": "markdown",
   "metadata": {},
   "source": [
    "---"
   ]
  },
  {
   "cell_type": "markdown",
   "metadata": {},
   "source": [
    "## Requirement 1: Create Plots to Showcase the Relationship Between Weather Variables and Latitude\n",
    "\n",
    "### Use the OpenWeatherMap API to retrieve weather data from the cities list generated in the started code"
   ]
  },
  {
   "cell_type": "code",
   "execution_count": null,
   "metadata": {},
   "outputs": [],
   "source": [
    "# Set the API base URL\n",
    "url = \"http://api.openweathermap.org/data/2.5/weather?\"\n",
    "\n",
    "# Define an empty list to fetch the weather data for each city\n",
    "city_data = []\n",
    "\n",
    "# Print to logger\n",
    "print(\"Beginning Data Retrieval     \")\n",
    "print(\"-----------------------------\")\n",
    "\n",
    "# Create counters\n",
    "record_count = 1\n",
    "set_count = 1\n",
    "\n",
    "# Loop through all the cities in our list to fetch weather data\n",
    "for i, city in enumerate(cities):\n",
    "\n",
    "    # Group cities in sets of 50 for logging purposes\n",
    "    if (i % 50 == 0 and i >= 50):\n",
    "        set_count += 1\n",
    "        record_count = 0\n",
    "\n",
    "    # Create endpoint URL with each city\n",
    "    city_url = f\"{url}?q={city}&appid={weather_api_key}&units=metric\"\n",
    "\n",
    "    # Log the url, record, and set numbers\n",
    "    print(\"Processing Record %s of Set %s | %s\" % (record_count, set_count, city))\n",
    "\n",
    "    # Add 1 to the record count\n",
    "    record_count += 1\n",
    "\n",
    "    # Run an API request for each of the cities\n",
    "    try:\n",
    "        # Parse the JSON and retrieve data\n",
    "        city_weather = requests.get(city_url).json()\n",
    "\n",
    "        # Parse out latitude, longitude, max temp, humidity, cloudiness, wind speed, country, and date\n",
    "        city_lat = city_weather['coord']['lat']\n",
    "        city_lng = city_weather['coord']['lon']\n",
    "        city_max_temp = city_weather['main']['temp_max']\n",
    "        city_humidity =  city_weather['main']['humidity']\n",
    "        city_clouds = city_weather['clouds']['all']\n",
    "        city_wind = city_weather['wind']['speed']\n",
    "        city_country = city_weather['sys']['country']\n",
    "        city_date = city_weather['dt']\n",
    "\n",
    "        # Append the City information into city_data list\n",
    "        city_data.append({\"City\": city,\n",
    "                          \"Lat\": city_lat,\n",
    "                          \"Lng\": city_lng,\n",
    "                          \"Max Temp\": city_max_temp,\n",
    "                          \"Humidity\": city_humidity,\n",
    "                          \"Cloudiness\": city_clouds,\n",
    "                          \"Wind Speed\": city_wind,\n",
    "                          \"Country\": city_country,\n",
    "                          \"Date\": city_date})\n",
    "\n",
    "    # If an error is experienced, skip the city\n",
    "    except:\n",
    "        print(\"City not found. Skipping...\")\n",
    "        pass\n",
    "\n",
    "    # pause to avoid rate limiting\n",
    "    time.sleep(1)\n",
    "\n",
    "# Indicate that Data Loading is complete\n",
    "print(\"-----------------------------\")\n",
    "print(\"Data Retrieval Complete      \")\n",
    "print(\"-----------------------------\")"
   ]
  },
  {
   "cell_type": "code",
   "execution_count": null,
   "metadata": {},
   "outputs": [],
   "source": [
    "# Convert the cities weather data into a Pandas DataFrame\n",
    "city_data_df =  pd.DataFrame(city_data)\n",
    "\n",
    "# Show Record Count\n",
    "city_data_df.count()"
   ]
  },
  {
   "cell_type": "code",
   "execution_count": null,
   "metadata": {},
   "outputs": [],
   "source": [
    "# Display sample data\n",
    "city_data_df.head()"
   ]
  },
  {
   "cell_type": "code",
   "execution_count": null,
   "metadata": {},
   "outputs": [],
   "source": [
    "# Export the City_Data into a csv\n",
    "city_data_df.to_csv(\"output_data/cities.csv\", index_label=\"City_ID\")"
   ]
  },
  {
   "cell_type": "code",
   "execution_count": null,
   "metadata": {},
   "outputs": [],
   "source": [
    "# Read saved data\n",
    "city_data_df = pd.read_csv(\"output_data/cities.csv\", index_col=\"City_ID\")\n",
    "\n",
    "# Display sample data\n",
    "city_data_df.head()"
   ]
  },
  {
   "cell_type": "markdown",
   "metadata": {},
   "source": [
    "### Create the Scatter Plots Requested\n",
    "\n",
    "#### Latitude Vs. Temperature"
   ]
  },
  {
   "cell_type": "code",
   "execution_count": null,
   "metadata": {
    "tags": []
   },
   "outputs": [],
   "source": [
    "# Build scatter plot for latitude vs. temperature\n",
    "plt.figure(figsize=(10,6))\n",
    "plt.scatter(city_data_df['Lat'], city_data_df['Max Temp'], color='blue', edgecolors='black')\n",
    "\n",
    "# Incorporate the other graph properties\n",
    "plt.title('City Max Latitude vs. Temperature (2024-06-17)', fontsize=14)\n",
    "plt.xlabel('Latitude', fontsize=12)\n",
    "plt.ylabel('Temperature (°C)', fontsize=12)\n",
    "plt.grid(True)\n",
    "\n",
    "# Save the figure\n",
    "plt.savefig(\"output_data/Fig1.png\")\n",
    "\n",
    "# Show plot\n",
    "plt.show()"
   ]
  },
  {
   "cell_type": "markdown",
   "metadata": {},
   "source": [
    "#### Latitude Vs. Humidity"
   ]
  },
  {
   "cell_type": "code",
   "execution_count": null,
   "metadata": {},
   "outputs": [],
   "source": [
    "# Build the scatter plots for latitude vs. humidity\n",
    "plt.figure(figsize=(10,6))\n",
    "plt.scatter(city_data_df['Lat'], city_data_df['Humidity'], color='blue', edgecolors='black')\n",
    "\n",
    "# Incorporate the other graph properties\n",
    "plt.title('City Latitude vs. Humidity (2024-06-17)', fontsize=14)\n",
    "plt.xlabel('Latitude', fontsize=12)\n",
    "plt.ylabel('Humidity (%)', fontsize=12)\n",
    "plt.grid(True)\n",
    "\n",
    "# Save the figure\n",
    "plt.savefig(\"output_data/Fig2.png\")\n",
    "\n",
    "# Show plot\n",
    "plt.show()"
   ]
  },
  {
   "cell_type": "markdown",
   "metadata": {},
   "source": [
    "#### Latitude Vs. Cloudiness"
   ]
  },
  {
   "cell_type": "code",
   "execution_count": null,
   "metadata": {},
   "outputs": [],
   "source": [
    "# Build the scatter plots for latitude vs. cloudiness\n",
    "plt.figure(figsize=(10,6))\n",
    "plt.scatter(city_data_df['Lat'], city_data_df['Cloudiness'], color='blue', edgecolors='black')\n",
    "\n",
    "# Incorporate the other graph properties\n",
    "plt.title('City Latitude vs. Cloudiness (2024-06-17)', fontsize=14)\n",
    "plt.xlabel('Latitude', fontsize=12)\n",
    "plt.ylabel('Cloudiness (%)', fontsize=12)\n",
    "plt.grid(True)\n",
    "\n",
    "# Save the figure\n",
    "plt.savefig(\"output_data/Fig3.png\")\n",
    "\n",
    "# Show plot\n",
    "plt.show()"
   ]
  },
  {
   "cell_type": "markdown",
   "metadata": {},
   "source": [
    "#### Latitude vs. Wind Speed Plot"
   ]
  },
  {
   "cell_type": "code",
   "execution_count": null,
   "metadata": {},
   "outputs": [],
   "source": [
    "# Build the scatter plots for latitude vs. wind speed\n",
    "plt.figure(figsize=(10,6))\n",
    "plt.scatter(city_data_df['Lat'], city_data_df['Wind Speed'], color='blue', edgecolors='black')\n",
    "\n",
    "\n",
    "# Incorporate the other graph properties\n",
    "plt.title('City Latitude vs. Wind Speed (2024-06-17)', fontsize=14)\n",
    "plt.xlabel('Latitude', fontsize=12)\n",
    "plt.ylabel('Wind Speed (m/s)', fontsize=12)\n",
    "plt.grid(True)\n",
    "\n",
    "# Save the figure\n",
    "plt.savefig(\"output_data/Fig4.png\")\n",
    "\n",
    "# Show plot\n",
    "plt.show()"
   ]
  },
  {
   "cell_type": "markdown",
   "metadata": {},
   "source": [
    "---\n",
    "\n",
    "## Requirement 2: Compute Linear Regression for Each Relationship\n"
   ]
  },
  {
   "cell_type": "code",
   "execution_count": null,
   "metadata": {},
   "outputs": [],
   "source": [
    "# Define a function to create Linear Regression plots\n",
    "\n",
    "def compute_and_print_regression(x, y, label):\n",
    "    slope, intercept, r_value, _, _ = linregress(x, y)\n",
    "    regression_values = slope * x + intercept\n",
    "    plt.plot(x, regression_values, color='red')\n",
    "    plt.scatter(x, y)\n",
    "    plt.title(f'{label}: r={r_value:.2f}')\n",
    "    plt.xlabel('Latitude')\n",
    "    plt.ylabel(label.split(' vs. ')[-1])\n",
    "    plt.show()"
   ]
  },
  {
   "cell_type": "code",
   "execution_count": null,
   "metadata": {},
   "outputs": [],
   "source": [
    "# Create a DataFrame with the Northern Hemisphere data (Latitude >= 0)\n",
    "northern_hemi_df = city_data_df[city_data_df['Lat'] >= 0]]\n",
    "\n",
    "# Display sample data\n",
    "northern_hemi_df.head()"
   ]
  },
  {
   "cell_type": "code",
   "execution_count": null,
   "metadata": {},
   "outputs": [],
   "source": [
    "# Create a DataFrame with the Southern Hemisphere data (Latitude < 0)\n",
    "southern_hemi_df = city_data_df[city_data_df['Lat'] < 0]]\n",
    "\n",
    "# Display sample data\n",
    "southern_hemi_df.head()"
   ]
  },
  {
   "cell_type": "markdown",
   "metadata": {},
   "source": [
    "###  Temperature vs. Latitude Linear Regression Plot"
   ]
  },
  {
   "cell_type": "code",
   "execution_count": null,
   "metadata": {},
   "outputs": [],
   "source": [
    "# Linear regression on Northern Hemisphere\n",
    "northern_latitudes = northern_hemi_df['Lat']\n",
    "northern_temperatures = northern_hemi_df['Max Temp']\n",
    "\n",
    "# Perform linear regression on Northern Hemisphere data\n",
    "slope, intercept, r_value, _, _ = linregress(northern_latitudes, northern_temperatures)\n",
    "\n",
    "# Create regression values (line)\n",
    "regress_values_north = northern_latitudes * slope + intercept\n",
    "\n",
    "# Plot scatter plot with regression line\n",
    "plt.figure(figsize=(10,6))\n",
    "plt.scatter(northern_latitudes, northern_temperatures, color='blue', edgecolors='black', label=\"City Data (Northern Hemisphere)\")\n",
    "plt.plot(northern_latitudes, regress_values_north, color='red', label=f\"Regression Line (r² = {r_value**2:.10f})\")\n",
    "\n",
    "# Add titles and labels\n",
    "plt.title('Northern Hemisphere: Latitude vs. Max Temperature', fontsize=14)\n",
    "plt.xlabel('Latitude', fontsize=12)\n",
    "plt.ylabel('Max Temperature (°C)', fontsize=12)\n",
    "plt.legend()\n",
    "plt.grid(True)\n",
    "\n",
    "# Show the r-squared value in the console\n",
    "print(f\"Northern Hemisphere r^2-value: {r_value**2}\")\n",
    "\n",
    "plt.show()"
   ]
  },
  {
   "cell_type": "code",
   "execution_count": null,
   "metadata": {},
   "outputs": [],
   "source": [
    "# Linear regression on Southern Hemisphere\n",
    "southern_latitudes = southern_hemi_df['Lat']\n",
    "southern_temperatures = southern_hemi_df['Max Temp']\n",
    "\n",
    "# Perform linear regression on Southern Hemisphere data\n",
    "slope, intercept, r_value, _, _ = linregress(southern_latitudes, southern_temperatures)\n",
    "\n",
    "# Create regression values line\n",
    "regress_values_south = southern_latitudes * slope + intercept\n",
    "\n",
    "# Plot scatter plot with regression line\n",
    "plt.figure(figsize=(10,6))\n",
    "plt.scatter(southern_latitudes, southern_temperatures, color='blue', edgecolors='black', label=\"City Data (Southern Hemisphere)\")\n",
    "plt.plot(southern_latitudes, regress_values_south, color='red', label=f\"Regression Line (r² = {r_value**2:.10f})\")\n",
    "\n",
    "# Add titles and labels\n",
    "plt.title('Southern Hemisphere: Latitude vs. Max Temperature', fontsize=14)\n",
    "plt.xlabel('Latitude', fontsize=12)\n",
    "plt.ylabel('Max Temperature (°C)', fontsize=12)\n",
    "plt.legend()\n",
    "plt.grid(True)\n",
    "\n",
    "# Show the r-squared value in the console\n",
    "print(f\"Southern Hemisphere r^2-value: {r_value**2}\")\n",
    "\n",
    "plt.show()"
   ]
  },
  {
   "cell_type": "markdown",
   "metadata": {},
   "source": [
    "**Discussion about the linear relationship:** YOUR RESPONSE HERE"
   ]
  },
  {
   "cell_type": "markdown",
   "metadata": {},
   "source": [
    "### Humidity vs. Latitude Linear Regression Plot"
   ]
  },
  {
   "cell_type": "code",
   "execution_count": null,
   "metadata": {},
   "outputs": [],
   "source": [
    "# Northern Hemisphere\n",
    "northern_humidity = northern_hemi_df['Humidity']\n",
    "\n",
    "# Perform linear regression on Northern Hemisphere data (Humidity vs. Latitude)\n",
    "slope, intercept, r_value, _, _ = linregress(northern_latitudes, northern_humidity)\n",
    "\n",
    "# Create regression line\n",
    "regress_values_north = northern_latitudes * slope + intercept\n",
    "\n",
    "# Plot scatter plot with regression line\n",
    "plt.figure(figsize=(10,6))\n",
    "plt.scatter(northern_latitudes, northern_humidity, color='blue', edgecolors='black', label=\"City Data (Northern Hemisphere)\")\n",
    "plt.plot(northern_latitudes, regress_values_north, color='red', label=f\"Regression Line (r² = {r_value**2:.10f})\")\n",
    "\n",
    "# Add titles and labels\n",
    "plt.title('Northern Hemisphere: Latitude vs. Humidity', fontsize=14)\n",
    "plt.xlabel('Latitude', fontsize=12)\n",
    "plt.ylabel('Humidity (%)', fontsize=12)\n",
    "plt.legend()\n",
    "plt.grid(True)\n",
    "\n",
    "# Show the r-squared value in the console\n",
    "print(f\"Northern Hemisphere Humidity r^2-value: {r_value**2}\")\n",
    "\n",
    "plt.show()"
   ]
  },
  {
   "cell_type": "code",
   "execution_count": null,
   "metadata": {},
   "outputs": [],
   "source": [
    "# Southern Hemisphere\n",
    "southern_humidity = southern_hemi_df['Humidity']\n",
    "\n",
    "# Perform linear regression on Northern Hemisphere data (Humidity vs. Latitude)\n",
    "slope, intercept, r_value, _, _ = linregress(southern_latitudes, southern_humidity)\n",
    "\n",
    "# Create regression line\n",
    "regress_values_north = southern_latitudes * slope + intercept\n",
    "\n",
    "# Plot scatter plot with regression line\n",
    "plt.figure(figsize=(10,6))\n",
    "plt.scatter(southern_latitudes, southern_humidity, color='blue', edgecolors='black', label=\"City Data (Southern Hemisphere)\")\n",
    "plt.plot(southern_latitudes, regress_values_south, color='red', label=f\"Regression Line (r² = {r_value**2:.10f})\")\n",
    "\n",
    "# Add titles and labels\n",
    "plt.title('Southern Hemisphere: Latitude vs. Humidity', fontsize=14)\n",
    "plt.xlabel('Latitude', fontsize=12)\n",
    "plt.ylabel('Humidity (%)', fontsize=12)\n",
    "plt.legend()\n",
    "plt.grid(True)\n",
    "\n",
    "# Show the r-squared value in the console\n",
    "print(f\"Southern Hemisphere Humidity r^2-value: {r_value**2}\")\n",
    "\n",
    "plt.show()"
   ]
  },
  {
   "cell_type": "markdown",
   "metadata": {},
   "source": [
    "**Discussion about the linear relationship:** YOUR RESPONSE HERE"
   ]
  },
  {
   "cell_type": "markdown",
   "metadata": {},
   "source": [
    "### Cloudiness vs. Latitude Linear Regression Plot"
   ]
  },
  {
   "cell_type": "code",
   "execution_count": null,
   "metadata": {},
   "outputs": [],
   "source": [
    "# Northern Hemisphere\n",
    "northern_cloudiness = northern_hemi_df['Cloudiness']\n",
    "\n",
    "# Perform linear regression on Northern Hemisphere data (CLoudiness vs. Latitude)\n",
    "slope, intercept, r_value, _, _ = linregress(northern_latitudes, northern_cloudiness)\n",
    "\n",
    "# Create regression line\n",
    "regress_values_north = northern_latitudes * slope + intercept\n",
    "\n",
    "# Plot scatter plot with regression line\n",
    "plt.figure(figsize=(10,6))\n",
    "plt.scatter(northern_latitudes, northern_cloudiness, color='blue', edgecolors='black', label=\"City Data (Northern Hemisphere)\")\n",
    "plt.plot(northern_latitudes, regress_values_north, color='red', label=f\"Regression Line (r² = {r_value**2:.10f})\")\n",
    "\n",
    "# Add titles and labels\n",
    "plt.title('Northern Hemisphere: Latitude vs. Cloudiness', fontsize=14)\n",
    "plt.xlabel('Latitude', fontsize=12)\n",
    "plt.ylabel('Clouiness (%)', fontsize=12)\n",
    "plt.legend()\n",
    "plt.grid(True)\n",
    "\n",
    "# Show the r-squared value in the console\n",
    "print(f\"Northern Hemisphere CLoudiness r^2-value: {r_value**2}\")\n",
    "\n",
    "plt.show()"
   ]
  },
  {
   "cell_type": "code",
   "execution_count": null,
   "metadata": {},
   "outputs": [],
   "source": [
    "# Southern Hemisphere\n",
    "southern_cloudiness = southern_hemi_df['Cloudiness']\n",
    "\n",
    "# Perform linear regression on Northern Hemisphere data (CLoudiness vs. Latitude)\n",
    "slope, intercept, r_value, _, _ = linregress(southern_latitudes, southern_cloudiness)\n",
    "\n",
    "# Create regression line\n",
    "regress_values_south = southern_latitudes * slope + intercept\n",
    "\n",
    "# Plot scatter plot with regression line\n",
    "plt.figure(figsize=(10,6))\n",
    "plt.scatter(southern_latitudes, southern_cloudiness, color='blue', edgecolors='black', label=\"City Data (Southern Hemisphere)\")\n",
    "plt.plot(Southern_latitudes, regress_values_south, color='red', label=f\"Regression Line (r² = {r_value**2:.10f})\")\n",
    "\n",
    "# Add titles and labels\n",
    "plt.title('Southern Hemisphere: Latitude vs. Cloudiness', fontsize=14)\n",
    "plt.xlabel('Latitude', fontsize=12)\n",
    "plt.ylabel('Clouiness (%)', fontsize=12)\n",
    "plt.legend()\n",
    "plt.grid(True)\n",
    "\n",
    "# Show the r-squared value in the console\n",
    "print(f\"Southern Hemisphere CLoudiness r^2-value: {r_value**2}\")\n",
    "\n",
    "plt.show()"
   ]
  },
  {
   "cell_type": "markdown",
   "metadata": {},
   "source": [
    "**Discussion about the linear relationship:** YOUR RESPONSE HERE"
   ]
  },
  {
   "cell_type": "markdown",
   "metadata": {},
   "source": [
    "### Wind Speed vs. Latitude Linear Regression Plot"
   ]
  },
  {
   "cell_type": "code",
   "execution_count": null,
   "metadata": {},
   "outputs": [],
   "source": [
    "# Northern Hemisphere\n",
    "northern_windspeed = northern_hemi_df['Wind Speed']\n",
    "\n",
    "# Perform linear regression on Northern Hemisphere data (CLoudiness vs. Latitude)\n",
    "slope, intercept, r_value, _, _ = linregress(northern_latitudes, northern_windspeed)\n",
    "\n",
    "# Create regression line\n",
    "regress_values_north = northern_latitudes * slope + intercept\n",
    "\n",
    "# Plot scatter plot with regression line\n",
    "plt.figure(figsize=(10,6))\n",
    "plt.scatter(northern_latitudes, northern_windspeed, color='blue', edgecolors='black', label=\"City Data (Northern Hemisphere)\")\n",
    "plt.plot(northern_latitudes, regress_values_north, color='red', label=f\"Regression Line (r² = {r_value**2:.10f})\")\n",
    "\n",
    "# Add titles and labels\n",
    "plt.title('Northern Hemisphere: Latitude vs. Wind Speed', fontsize=14)\n",
    "plt.xlabel('Latitude', fontsize=12)\n",
    "plt.ylabel('Wind Speed (%)', fontsize=12)\n",
    "plt.legend()\n",
    "plt.grid(True)\n",
    "\n",
    "# Show the r-squared value in the console\n",
    "print(f\"Northern Hemisphere Wind Speed r^2-value: {r_value**2}\")\n",
    "\n",
    "plt.show()"
   ]
  },
  {
   "cell_type": "code",
   "execution_count": null,
   "metadata": {},
   "outputs": [],
   "source": [
    "# Southern Hemisphere\n",
    "southern_windspeed = southern_hemi_df['Wind Speed']\n",
    "\n",
    "# Perform linear regression on Northern Hemisphere data (CLoudiness vs. Latitude)\n",
    "slope, intercept, r_value, _, _ = linregress(southern_latitudes, southern_windspeed)\n",
    "\n",
    "# Create regression line\n",
    "regress_values_south = southern_latitudes * slope + intercept\n",
    "\n",
    "# Plot scatter plot with regression line\n",
    "plt.figure(figsize=(10,6))\n",
    "plt.scatter(southern_latitudes, southern_windspeed, color='blue', edgecolors='black', label=\"City Data (Southern Hemisphere)\")\n",
    "plt.plot(southern_latitudes, regress_values_south, color='red', label=f\"Regression Line (r² = {r_value**2:.10f})\")\n",
    "\n",
    "# Add titles and labels\n",
    "plt.title('Southern Hemisphere: Latitude vs. Wind Speed', fontsize=14)\n",
    "plt.xlabel('Latitude', fontsize=12)\n",
    "plt.ylabel('Wind Speed (%)', fontsize=12)\n",
    "plt.legend()\n",
    "plt.grid(True)\n",
    "\n",
    "# Show the r-squared value in the console\n",
    "print(f\"Southern Hemisphere Wind Speed r^2-value: {r_value**2}\")\n",
    "\n",
    "plt.show()"
   ]
  },
  {
   "cell_type": "markdown",
   "metadata": {},
   "source": [
    "**Discussion about the linear relationship:** YOUR RESPONSE HERE"
   ]
  },
  {
   "cell_type": "code",
   "execution_count": null,
   "metadata": {},
   "outputs": [],
   "source": []
  }
 ],
 "metadata": {
  "anaconda-cloud": {},
  "kernel_info": {
   "name": "python3"
  },
  "kernelspec": {
   "display_name": "Python 3 (ipykernel)",
   "language": "python",
   "name": "python3"
  },
  "language_info": {
   "codemirror_mode": {
    "name": "ipython",
    "version": 3
   },
   "file_extension": ".py",
   "mimetype": "text/x-python",
   "name": "python",
   "nbconvert_exporter": "python",
   "pygments_lexer": "ipython3",
   "version": "3.11.7"
  },
  "latex_envs": {
   "LaTeX_envs_menu_present": true,
   "autoclose": false,
   "autocomplete": true,
   "bibliofile": "biblio.bib",
   "cite_by": "apalike",
   "current_citInitial": 1,
   "eqLabelWithNumbers": true,
   "eqNumInitial": 1,
   "hotkeys": {
    "equation": "Ctrl-E",
    "itemize": "Ctrl-I"
   },
   "labels_anchors": false,
   "latex_user_defs": false,
   "report_style_numbering": false,
   "user_envs_cfg": false
  },
  "nteract": {
   "version": "0.12.3"
  }
 },
 "nbformat": 4,
 "nbformat_minor": 4
}
